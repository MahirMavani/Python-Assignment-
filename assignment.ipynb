{
 "cells": [
  {
   "cell_type": "code",
   "execution_count": 2,
   "id": "7cfbdbc7-8357-4608-b54e-a29c07d6d8ba",
   "metadata": {
    "scrolled": true
   },
   "outputs": [
    {
     "name": "stdin",
     "output_type": "stream",
     "text": [
      "enter no 1 :- 3\n",
      "enter no 2 :- 5\n"
     ]
    },
    {
     "name": "stdout",
     "output_type": "stream",
     "text": [
      "Addition :- 8\n",
      "Subtraction :- -2\n",
      "Multiplication :- 15\n",
      "Division :- 0.6\n",
      "Modulus :- 3\n",
      "Exponentation :- 243\n",
      "Floor Division :- 0\n"
     ]
    }
   ],
   "source": [
    "#question 1\n",
    "a=int(input(\"enter no 1 :-\"))\n",
    "b=int(input(\"enter no 2 :-\"))\n",
    "print(\"Addition :-\",a+b)#this will add the two numbers\n",
    "print(\"Subtraction :-\",a-b)#this will subtract the two numbers\n",
    "print(\"Multiplication :-\",a*b)#this will give product of the two numbers\n",
    "print(\"Division :-\",a/b)#this will give the quotient by dividing the two numbers\n",
    "print(\"Modulus :-\",a%b)#this will give remainder of the two numbers\n",
    "print(\"Exponentation :-\",a**b)#this will the two numbers\n",
    "print(\"Floor Division :-\",a//b)#this will do floor division the two numbers"
   ]
  },
  {
   "cell_type": "code",
   "execution_count": 4,
   "id": "c4443eae-d029-4e3e-829a-f520218a6081",
   "metadata": {},
   "outputs": [
    {
     "name": "stdin",
     "output_type": "stream",
     "text": [
      "enter a :- 4\n",
      "enter b :- 4\n"
     ]
    },
    {
     "name": "stdout",
     "output_type": "stream",
     "text": [
      "both are equal\n"
     ]
    }
   ],
   "source": [
    "#Question 2\n",
    "a=int(input(\"enter a :-\"))#input no 1\n",
    "b=int(input(\"enter b :-\"))#input no 2\n",
    "if a>b:#if condition checks whether the condition is true or not and prints the output accordingly\n",
    "    print(\"a is greater than b\")\n",
    "elif a<b:#elif condition is similar to if condition and checks whether the condition is true or not\n",
    "    print(\"a is smaller than b\")\n",
    "else:#this condition is like a conclusion\n",
    "    print(\"both are equal\")\n",
    "    "
   ]
  },
  {
   "cell_type": "code",
   "execution_count": 11,
   "id": "12a3baaa-3285-4dda-bc7a-1fbe57b30c59",
   "metadata": {},
   "outputs": [
    {
     "name": "stdin",
     "output_type": "stream",
     "text": [
      "enter a boolean value 1:- true\n",
      "enter a boolean value 2:- false\n",
      "enter a boolean value 3:- false\n"
     ]
    },
    {
     "name": "stdout",
     "output_type": "stream",
     "text": [
      "False\n",
      "True\n",
      "False\n",
      "True\n",
      "True\n"
     ]
    }
   ],
   "source": [
    "# question 3\n",
    "a=input(\"enter a boolean value 1:-\").strip().lower()==\"true\"#strip() will clear all white spaces and lower will help to remove indentation\n",
    "b=input(\"enter a boolean value 2:-\").strip().lower()==\"true\"\n",
    "c=input(\"enter a boolean value 3:-\").strip().lower()==\"true\"\n",
    "print(a and b and c)\n",
    "print(a or b or c)\n",
    "print(not a)\n",
    "print(not b)\n",
    "print(not c)"
   ]
  },
  {
   "cell_type": "code",
   "execution_count": 12,
   "id": "c70629e6-e4db-425b-842d-94219485cb05",
   "metadata": {},
   "outputs": [
    {
     "name": "stdin",
     "output_type": "stream",
     "text": [
      "enter any string mahir\n"
     ]
    },
    {
     "name": "stdout",
     "output_type": "stream",
     "text": [
      "5\n",
      "m\n",
      "r\n",
      "riham\n",
      "MAHIR\n",
      "mahir\n"
     ]
    }
   ],
   "source": [
    "# question 4\n",
    "a=input(\"enter any string\")\n",
    "print(len(a))#this will print the length of the string\n",
    "print(a[0])#it will print the first character of the string\n",
    "print(a[-1])#it will print the last character of the string\n",
    "print(a[::-1])#it will print the string in the reverse order\n",
    "print(a.upper())#it will print the string in the uppercase\n",
    "print(a.lower())#it will print the string in the lowercase"
   ]
  },
  {
   "cell_type": "code",
   "execution_count": 13,
   "id": "dbb1059f-4b97-4def-be89-bd5d7268a915",
   "metadata": {},
   "outputs": [
    {
     "name": "stdin",
     "output_type": "stream",
     "text": [
      "enter your name mahir\n",
      "enter your age 18\n"
     ]
    },
    {
     "name": "stdout",
     "output_type": "stream",
     "text": [
      "hello mahir you are 18 years old\n"
     ]
    }
   ],
   "source": [
    "#question 5\n",
    "n=input(\"enter your name\")#enter the name\n",
    "a=int(input(\"enter your age\"))#enter the ahe in numbers\n",
    "print(\"hello\",n,\"you are\",a,\"years old\")"
   ]
  },
  {
   "cell_type": "code",
   "execution_count": 1,
   "id": "470a7b82-5235-4a23-bcfb-2e93fbb3362b",
   "metadata": {},
   "outputs": [
    {
     "name": "stdin",
     "output_type": "stream",
     "text": [
      "Enter a sentence:  mahir is a billionAIRE\n",
      "Enter a word to search:  is\n"
     ]
    },
    {
     "name": "stdout",
     "output_type": "stream",
     "text": [
      "6\n"
     ]
    }
   ],
   "source": [
    "# question 6\n",
    "string=input(\"Enter a string: \")\n",
    "word=input(\"Enter the word which you want to find\")\n",
    "if word in string:\n",
    "    print(string.index(word))#it will provide the index of the word which is to be found\n",
    "else:\n",
    "    print(\"Word not found\")"
   ]
  },
  {
   "cell_type": "code",
   "execution_count": 4,
   "id": "100a98da-f320-4f90-8435-4800f9acd308",
   "metadata": {},
   "outputs": [
    {
     "name": "stdin",
     "output_type": "stream",
     "text": [
      "Enter number:  67\n",
      "Enter number:  56\n",
      "Enter number:  34\n",
      "Enter number:  98\n",
      "Enter number:  32\n"
     ]
    },
    {
     "name": "stdout",
     "output_type": "stream",
     "text": [
      "287.0\n",
      "98.0\n",
      "32.0\n"
     ]
    }
   ],
   "source": [
    "#question 7\n",
    "num=[float(input(\"Enter number: \"))for i in range(5)]\n",
    "print(sum(num))# it will do the summation of the numbers\n",
    "print(max(num))# it will print the largest number from the list\n",
    "print(min(num))# it will print the smallest number from the list"
   ]
  },
  {
   "cell_type": "code",
   "execution_count": 5,
   "id": "f955dffb-4426-44a0-9fe3-c96eafbe1f8f",
   "metadata": {},
   "outputs": [
    {
     "name": "stdout",
     "output_type": "stream",
     "text": [
      "['Apple', 'Orange', 'Kiwi', 'Lychee', 'watermelon']\n"
     ]
    }
   ],
   "source": [
    "#question 8\n",
    "fruits = ['Apple', 'Mango', 'Orange', 'Kiwi', 'Lychee']\n",
    "fruits+=['watermelon']\n",
    "fruits.remove(fruits[1])# it will remove the second element from the list\n",
    "print(fruits)"
   ]
  },
  {
   "cell_type": "code",
   "execution_count": 7,
   "id": "84eb74c4-5277-4712-9319-63a68307bb4b",
   "metadata": {},
   "outputs": [
    {
     "name": "stdin",
     "output_type": "stream",
     "text": [
      "Enter a number:  7\n",
      "Enter a number:  9\n",
      "Enter a number:  8\n",
      "Enter a number:  6\n",
      "Enter a number:  4\n"
     ]
    },
    {
     "name": "stdout",
     "output_type": "stream",
     "text": [
      "Ascending order: [4, 6, 7, 8, 9]\n",
      "Descending order: [9, 8, 7, 6, 4]\n"
     ]
    }
   ],
   "source": [
    "#question 9\n",
    "num=[]\n",
    "while len(num) < 5:\n",
    "    number=int(input(\"Enter a number: \"))\n",
    "    num.append(number)\n",
    "print(\"Ascending order:\",sorted(num))# it will print the list in ascending order\n",
    "print(\"Descending order:\",sorted(num,reverse=True))# it will print the list in descending order"
   ]
  },
  {
   "cell_type": "code",
   "execution_count": 27,
   "id": "8a88130e-3201-45c0-950a-93f8f7e458ad",
   "metadata": {},
   "outputs": [
    {
     "name": "stdout",
     "output_type": "stream",
     "text": [
      "[1, 2, 3, 4, 5]\n",
      "[6, 7, 8, 9, 10]\n",
      "[3, 4, 5, 6, 7, 8]\n"
     ]
    }
   ],
   "source": [
    "#question 10\n",
    "nos=[1,2,3,4,5,6,7,8,9,10]\n",
    "print(nos[:5])# it will print the first five numbers from the list\n",
    "print(nos[5:])# it will print the numbers from 5th index till the end\n",
    "print(nos[2:8])# it will print the numbers from 2nd position till the 7nth position\n"
   ]
  },
  {
   "cell_type": "code",
   "execution_count": null,
   "id": "ebb0965e-8c8a-4eb8-86f1-e1532e14ff9a",
   "metadata": {},
   "outputs": [],
   "source": []
  }
 ],
 "metadata": {
  "kernelspec": {
   "display_name": "Python 3 (ipykernel)",
   "language": "python",
   "name": "python3"
  },
  "language_info": {
   "codemirror_mode": {
    "name": "ipython",
    "version": 3
   },
   "file_extension": ".py",
   "mimetype": "text/x-python",
   "name": "python",
   "nbconvert_exporter": "python",
   "pygments_lexer": "ipython3",
   "version": "3.12.4"
  }
 },
 "nbformat": 4,
 "nbformat_minor": 5
}
